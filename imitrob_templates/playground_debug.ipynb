{
 "cells": [
  {
   "cell_type": "code",
   "execution_count": 1,
   "metadata": {},
   "outputs": [
    {
     "data": {
      "text/plain": [
       "'from typing import Dict, Any, Tuple\\nimport json, time\\nfrom imitrob_hri.imitrob_nlp.nlp_utils import template_name_synonyms\\nimport numpy as np\\nfrom copy import deepcopy\\nfrom imitrob_templates.config import OpenTaskConfig, NonMovePartRelations, TEMPORARY_VISION_ERROR_CORRECTION_POINT\\nfrom imitrob_templates.object_config import get_z_offset_from_center\\n\\nfrom imitrob_templates.utils import get_quaternion_eef\\nfrom imitrob_templates.templates import BaseTask, TaskExecutionMode\\nfrom teleop_msgs.msg import Intent\\n\\nfrom imitrob_hri.imitrob_nlp.modules.ObjectDetector import ObjectDetector\\nfrom imitrob_hri.imitrob_nlp.modules.ObjectGrounder import ObjectGrounder\\nfrom imitrob_hri.imitrob_nlp.database.Ontology import Template\\nfrom imitrob_hri.imitrob_nlp.modules.UserInputManager import UserInputManager\\nfrom crow_msgs.msg import CommandType\\nfrom scipy.spatial.transform import Rotation as R\\n\\nfrom spatialmath import UnitQuaternion\\nimport spatialmath as sm'"
      ]
     },
     "execution_count": 1,
     "metadata": {},
     "output_type": "execute_result"
    }
   ],
   "source": [
    "'''from typing import Dict, Any, Tuple\n",
    "import json, time\n",
    "from imitrob_hri.imitrob_nlp.nlp_utils import template_name_synonyms\n",
    "import numpy as np\n",
    "from copy import deepcopy\n",
    "from imitrob_templates.config import OpenTaskConfig, NonMovePartRelations, TEMPORARY_VISION_ERROR_CORRECTION_POINT\n",
    "from imitrob_templates.object_config import get_z_offset_from_center\n",
    "\n",
    "from imitrob_templates.utils import get_quaternion_eef\n",
    "from imitrob_templates.templates import BaseTask, TaskExecutionMode\n",
    "from teleop_msgs.msg import Intent\n",
    "\n",
    "from imitrob_hri.imitrob_nlp.modules.ObjectDetector import ObjectDetector\n",
    "from imitrob_hri.imitrob_nlp.modules.ObjectGrounder import ObjectGrounder\n",
    "from imitrob_hri.imitrob_nlp.database.Ontology import Template\n",
    "from imitrob_hri.imitrob_nlp.modules.UserInputManager import UserInputManager\n",
    "from crow_msgs.msg import CommandType\n",
    "from scipy.spatial.transform import Rotation as R\n",
    "\n",
    "from spatialmath import UnitQuaternion\n",
    "import spatialmath as sm'''"
   ]
  },
  {
   "attachments": {},
   "cell_type": "markdown",
   "metadata": {},
   "source": [
    "# Debugging the templates\n",
    "\n",
    "- Run in VSCode with prior sourced rosenv\n",
    "- Conda: crow_env (python 3.11)\n",
    "- RTPC - `crow_robot_server` running"
   ]
  },
  {
   "cell_type": "code",
   "execution_count": 1,
   "metadata": {},
   "outputs": [
    {
     "name": "stderr",
     "output_type": "stream",
     "text": [
      "playsound is relying on another python subprocess. Please use `pip install pygobject` if you want playsound to run more efficiently.\n",
      "UserWarning [/home/imitlearn/crow-base/build/imitrob_templates/imitrob_templates/templates/__init__.py]: No class found matching file name 'PlaceTask' in file 'PlaceTask.py'. Skipping import.\n"
     ]
    },
    {
     "name": "stdout",
     "output_type": "stream",
     "text": [
      "Imported task: [PassTask, PointTask, PourTask, PutIntoTask, StackTask, UnglueTask, ReleaseTask, OpenTask, CloseTask, NoopTask, MoveUpTask, PickTask, StopTask, PushTask]\n"
     ]
    },
    {
     "name": "stderr",
     "output_type": "stream",
     "text": [
      "Python-dotenv could not parse statement starting at line 1\n",
      "Python-dotenv could not parse statement starting at line 2\n",
      "Python-dotenv could not parse statement starting at line 3\n",
      "Python-dotenv could not parse statement starting at line 4\n",
      "Python-dotenv could not parse statement starting at line 5\n",
      "Python-dotenv could not parse statement starting at line 6\n",
      "Python-dotenv could not parse statement starting at line 7\n",
      "Python-dotenv could not parse statement starting at line 8\n",
      "Python-dotenv could not parse statement starting at line 9\n",
      "Python-dotenv could not parse statement starting at line 10\n",
      "Python-dotenv could not parse statement starting at line 11\n",
      "Python-dotenv could not parse statement starting at line 12\n",
      "Python-dotenv could not parse statement starting at line 13\n",
      "Python-dotenv could not parse statement starting at line 14\n",
      "Python-dotenv could not parse statement starting at line 15\n",
      "Python-dotenv could not parse statement starting at line 16\n",
      "Python-dotenv could not parse statement starting at line 17\n",
      "Python-dotenv could not parse statement starting at line 18\n",
      "Python-dotenv could not parse statement starting at line 19\n",
      "Python-dotenv could not parse statement starting at line 20\n",
      "Python-dotenv could not parse statement starting at line 21\n",
      "Python-dotenv could not parse statement starting at line 22\n",
      "Python-dotenv could not parse statement starting at line 23\n",
      "Python-dotenv could not parse statement starting at line 24\n",
      "Python-dotenv could not parse statement starting at line 25\n",
      "Python-dotenv could not parse statement starting at line 26\n",
      "Python-dotenv could not parse statement starting at line 27\n",
      "Python-dotenv could not parse statement starting at line 28\n",
      "Python-dotenv could not parse statement starting at line 29\n",
      "Python-dotenv could not parse statement starting at line 30\n",
      "Python-dotenv could not parse statement starting at line 31\n",
      "Python-dotenv could not parse statement starting at line 32\n",
      "Python-dotenv could not parse statement starting at line 33\n",
      "Python-dotenv could not parse statement starting at line 34\n",
      "Python-dotenv could not parse statement starting at line 35\n",
      "Python-dotenv could not parse statement starting at line 36\n",
      "Python-dotenv could not parse statement starting at line 37\n",
      "Python-dotenv could not parse statement starting at line 38\n",
      "Python-dotenv could not parse statement starting at line 39\n",
      "Python-dotenv could not parse statement starting at line 40\n",
      "Python-dotenv could not parse statement starting at line 41\n",
      "Python-dotenv could not parse statement starting at line 42\n",
      "Python-dotenv could not parse statement starting at line 43\n",
      "Python-dotenv could not parse statement starting at line 44\n",
      "Python-dotenv could not parse statement starting at line 45\n",
      "Python-dotenv could not parse statement starting at line 46\n",
      "Python-dotenv could not parse statement starting at line 47\n",
      "Python-dotenv could not parse statement starting at line 48\n",
      "Python-dotenv could not parse statement starting at line 49\n",
      "Python-dotenv could not parse statement starting at line 50\n",
      "Python-dotenv could not parse statement starting at line 51\n",
      "Python-dotenv could not parse statement starting at line 52\n",
      "Python-dotenv could not parse statement starting at line 53\n",
      "Python-dotenv could not parse statement starting at line 54\n",
      "Python-dotenv could not parse statement starting at line 55\n",
      "Python-dotenv could not parse statement starting at line 56\n",
      "Python-dotenv could not parse statement starting at line 57\n",
      "Python-dotenv could not parse statement starting at line 58\n",
      "Python-dotenv could not parse statement starting at line 59\n",
      "Python-dotenv could not parse statement starting at line 60\n",
      "Python-dotenv could not parse statement starting at line 61\n",
      "Python-dotenv could not parse statement starting at line 62\n",
      "Python-dotenv could not parse statement starting at line 63\n",
      "Python-dotenv could not parse statement starting at line 64\n",
      "Python-dotenv could not parse statement starting at line 65\n",
      "Python-dotenv could not parse statement starting at line 66\n",
      "Python-dotenv could not parse statement starting at line 67\n",
      "Python-dotenv could not parse statement starting at line 68\n",
      "Python-dotenv could not parse statement starting at line 69\n",
      "Python-dotenv could not parse statement starting at line 70\n",
      "Python-dotenv could not parse statement starting at line 71\n",
      "Python-dotenv could not parse statement starting at line 72\n",
      "Python-dotenv could not parse statement starting at line 73\n",
      "Python-dotenv could not parse statement starting at line 74\n",
      "Python-dotenv could not parse statement starting at line 75\n",
      "Python-dotenv could not parse statement starting at line 76\n",
      "Python-dotenv could not parse statement starting at line 77\n",
      "Python-dotenv could not parse statement starting at line 78\n",
      "Python-dotenv could not parse statement starting at line 79\n",
      "Python-dotenv could not parse statement starting at line 80\n",
      "Python-dotenv could not parse statement starting at line 81\n",
      "Python-dotenv could not parse statement starting at line 82\n",
      "Python-dotenv could not parse statement starting at line 83\n",
      "Python-dotenv could not parse statement starting at line 84\n",
      "Python-dotenv could not parse statement starting at line 85\n",
      "Python-dotenv could not parse statement starting at line 86\n",
      "Python-dotenv could not parse statement starting at line 87\n",
      "Python-dotenv could not parse statement starting at line 88\n",
      "Python-dotenv could not parse statement starting at line 89\n",
      "Python-dotenv could not parse statement starting at line 90\n",
      "Python-dotenv could not parse statement starting at line 91\n",
      "Python-dotenv could not parse statement starting at line 92\n",
      "Python-dotenv could not parse statement starting at line 93\n",
      "Python-dotenv could not parse statement starting at line 94\n",
      "Python-dotenv could not parse statement starting at line 95\n",
      "Python-dotenv could not parse statement starting at line 96\n",
      "Python-dotenv could not parse statement starting at line 97\n",
      "Python-dotenv could not parse statement starting at line 98\n",
      "Python-dotenv could not parse statement starting at line 99\n",
      "Python-dotenv could not parse statement starting at line 100\n",
      "Python-dotenv could not parse statement starting at line 101\n",
      "Python-dotenv could not parse statement starting at line 102\n",
      "Python-dotenv could not parse statement starting at line 103\n",
      "Python-dotenv could not parse statement starting at line 104\n",
      "Python-dotenv could not parse statement starting at line 105\n",
      "Python-dotenv could not parse statement starting at line 106\n",
      "Python-dotenv could not parse statement starting at line 107\n",
      "Python-dotenv could not parse statement starting at line 108\n",
      "Python-dotenv could not parse statement starting at line 109\n",
      "Python-dotenv could not parse statement starting at line 110\n",
      "Python-dotenv could not parse statement starting at line 111\n",
      "Python-dotenv could not parse statement starting at line 112\n",
      "Python-dotenv could not parse statement starting at line 113\n",
      "Python-dotenv could not parse statement starting at line 114\n",
      "Python-dotenv could not parse statement starting at line 115\n",
      "Python-dotenv could not parse statement starting at line 116\n",
      "Python-dotenv could not parse statement starting at line 117\n",
      "Python-dotenv could not parse statement starting at line 118\n",
      "Python-dotenv could not parse statement starting at line 119\n",
      "Python-dotenv could not parse statement starting at line 120\n",
      "Python-dotenv could not parse statement starting at line 121\n",
      "Python-dotenv could not parse statement starting at line 122\n",
      "Python-dotenv could not parse statement starting at line 123\n",
      "Python-dotenv could not parse statement starting at line 124\n",
      "Python-dotenv could not parse statement starting at line 125\n",
      "Python-dotenv could not parse statement starting at line 126\n",
      "Python-dotenv could not parse statement starting at line 127\n",
      "Python-dotenv could not parse statement starting at line 128\n",
      "Python-dotenv could not parse statement starting at line 129\n",
      "Python-dotenv could not parse statement starting at line 130\n",
      "Python-dotenv could not parse statement starting at line 131\n",
      "Python-dotenv could not parse statement starting at line 132\n",
      "Python-dotenv could not parse statement starting at line 133\n",
      "Python-dotenv could not parse statement starting at line 134\n",
      "Python-dotenv could not parse statement starting at line 135\n",
      "Python-dotenv could not parse statement starting at line 136\n",
      "Python-dotenv could not parse statement starting at line 137\n",
      "Python-dotenv could not parse statement starting at line 138\n",
      "Python-dotenv could not parse statement starting at line 139\n",
      "Python-dotenv could not parse statement starting at line 140\n",
      "Python-dotenv could not parse statement starting at line 141\n",
      "Python-dotenv could not parse statement starting at line 142\n",
      "Python-dotenv could not parse statement starting at line 143\n"
     ]
    },
    {
     "name": "stdout",
     "output_type": "stream",
     "text": [
      "Query endpoint: http://192.168.88.146:4242/onto/query\n",
      "Update endpoint: http://192.168.88.146:4242/onto/update\n",
      "Indentifier: http://imitrob.ciirc.cvut.cz/ontologies/crow\n",
      "Using store type: fuseki.\n"
     ]
    },
    {
     "name": "stderr",
     "output_type": "stream",
     "text": [
      "[INFO] [1711039513.361122456] [playground_debug_node]: {'host': '192.168.88.146', 'port': '4242', 'baseURL': 'http://imitrob.ciirc.cvut.cz/ontologies/crow', 'database': 'onto', 'store': 'fuseki'}\n"
     ]
    },
    {
     "name": "stdout",
     "output_type": "stream",
     "text": [
      "Ontology Client Ready\n"
     ]
    }
   ],
   "source": [
    "import rclpy\n",
    "from rclpy.node import Node\n",
    "from crow_ontology.crowracle_client import CrowtologyClient\n",
    "from imitrob_robot_client.robot_client import RobotActionClient\n",
    "\n",
    "from imitrob_templates.templates.OpenTask import OpenTask\n",
    "from imitrob_templates.templates.PickTask import PickTask\n",
    "from imitrob_templates.templates.StackTask import StackTask\n",
    "from imitrob_templates.templates.PutIntoTask import PutIntoTask\n",
    "\n",
    "\n",
    "from imitrob_templates.small_ontology_scene_reader import SceneOntologyClient\n",
    "\n",
    "rclpy.init()\n",
    "rosnode = Node(\"playground_debug_node\")\n",
    "soc = SceneOntologyClient(rosnode)\n",
    "robot_client = RobotActionClient(rosnode)\n"
   ]
  },
  {
   "cell_type": "code",
   "execution_count": 2,
   "metadata": {},
   "outputs": [],
   "source": [
    "# robot_client.close_gripper()\n",
    "# robot_client.open_gripper()"
   ]
  },
  {
   "cell_type": "code",
   "execution_count": 3,
   "metadata": {},
   "outputs": [],
   "source": [
    "#robot_client.move_pose(p=[0.5,0.0,0.3], q=[1.0,0.0,0.0,0.0])"
   ]
  },
  {
   "cell_type": "code",
   "execution_count": 4,
   "metadata": {},
   "outputs": [],
   "source": [
    "task = PickTask()\n"
   ]
  },
  {
   "cell_type": "code",
   "execution_count": 5,
   "metadata": {},
   "outputs": [],
   "source": [
    "scene2 = soc.get_scene2()\n",
    "task.target_object = scene2.crow_get_object_by_name('can').name\n",
    "# task.target_storage = scene2.crow_get_object_by_name('drawer').name"
   ]
  },
  {
   "cell_type": "code",
   "execution_count": 6,
   "metadata": {},
   "outputs": [],
   "source": [
    "task.ground_scene(scene2)"
   ]
  },
  {
   "cell_type": "code",
   "execution_count": 7,
   "metadata": {},
   "outputs": [],
   "source": [
    "suc, relevant_data = task.get_ground_data(relevant_data={})"
   ]
  },
  {
   "cell_type": "code",
   "execution_count": 8,
   "metadata": {},
   "outputs": [
    {
     "name": "stdout",
     "output_type": "stream",
     "text": [
      "(True, True, array([0.65695393, 0.13622497, 0.14344039]), array([1., 0., 0., 0.]), 'open')\n",
      "(True, True, array([0.65695393, 0.13622497, 0.07344039]), array([1., 0., 0., 0.]), 'close')\n",
      "(False, True, array([0.65695393, 0.13622497, 0.27344039]), array([1., 0., 0., 0.]), '')\n"
     ]
    }
   ],
   "source": [
    "for i in range(1,4):\n",
    "    print(getattr(task,f'get_mode_1_move_{i}')(relevant_data))"
   ]
  },
  {
   "cell_type": "code",
   "execution_count": 9,
   "metadata": {},
   "outputs": [],
   "source": [
    "# task.get_handle_pose(relevant_data)"
   ]
  },
  {
   "cell_type": "code",
   "execution_count": 10,
   "metadata": {},
   "outputs": [],
   "source": [
    "# relevant_data['target_opened_object'].name"
   ]
  },
  {
   "cell_type": "code",
   "execution_count": 11,
   "metadata": {},
   "outputs": [],
   "source": [
    "# task.target_opened_object_to_handle(relevant_data['target_opened_object'])"
   ]
  },
  {
   "cell_type": "code",
   "execution_count": 12,
   "metadata": {},
   "outputs": [
    {
     "name": "stdout",
     "output_type": "stream",
     "text": [
      "[Move check] Moving to [0.65695393 0.13622497 0.14344039], [1. 0. 0. 0.]\n",
      "last q before:  [ 1.25159936  0.35744763 -1.05482096 -2.34786163  0.50783301  2.46538838\n",
      "  2.17195684]\n",
      "last q:  [ 0.79190024  0.72171355 -0.69155191 -1.69849809  0.55501466  2.21457159\n",
      "  0.66476809]\n"
     ]
    },
    {
     "name": "stderr",
     "output_type": "stream",
     "text": [
      "[INFO] [1711039537.690705715] [playground_debug_node]: Received feedback: imitrob_common_interfaces.action.TrajectoryAction_Feedback(status='running', progress=1.0, pose=geometry_msgs.msg.PoseStamped(header=std_msgs.msg.Header(stamp=builtin_interfaces.msg.Time(sec=0, nanosec=0), frame_id=''), pose=geometry_msgs.msg.Pose(position=geometry_msgs.msg.Point(x=0.0, y=0.0, z=0.0), orientation=geometry_msgs.msg.Quaternion(x=0.0, y=0.0, z=0.0, w=1.0))), joint_state=sensor_msgs.msg.JointState(header=std_msgs.msg.Header(stamp=builtin_interfaces.msg.Time(sec=0, nanosec=0), frame_id=''), name=[], position=[], velocity=[], effort=[]), gripper_apperture=0.0, action_phase=imitrob_common_interfaces.msg.ActionPhase(phase=3))\n",
      "[INFO] [1711039537.840860238] [playground_debug_node]: Robot action ended with\n",
      "\tsuccess: True\n",
      "\tflag: 1\n",
      "\tmessage: Action done\n",
      "[INFO] [1711039538.650100143] [playground_debug_node]: Robot action ended with\n",
      "\tsuccess: True\n",
      "\tflag: 1\n",
      "\tmessage: Action done\n"
     ]
    },
    {
     "name": "stdout",
     "output_type": "stream",
     "text": [
      "[Move check] Moving to [0.65695393 0.13622497 0.07344039], [1. 0. 0. 0.]\n",
      "last q before:  [ 0.79190024  0.72171355 -0.69155191 -1.69849809  0.55501466  2.21457159\n",
      "  0.66476809]\n",
      "last q:  [ 0.74374538  0.83860089 -0.62103994 -1.68370523  0.62799179  2.31348245\n",
      "  0.62656078]\n"
     ]
    },
    {
     "name": "stderr",
     "output_type": "stream",
     "text": [
      "[INFO] [1711039540.497047973] [playground_debug_node]: Received feedback: imitrob_common_interfaces.action.TrajectoryAction_Feedback(status='running', progress=1.0, pose=geometry_msgs.msg.PoseStamped(header=std_msgs.msg.Header(stamp=builtin_interfaces.msg.Time(sec=0, nanosec=0), frame_id=''), pose=geometry_msgs.msg.Pose(position=geometry_msgs.msg.Point(x=0.0, y=0.0, z=0.0), orientation=geometry_msgs.msg.Quaternion(x=0.0, y=0.0, z=0.0, w=1.0))), joint_state=sensor_msgs.msg.JointState(header=std_msgs.msg.Header(stamp=builtin_interfaces.msg.Time(sec=0, nanosec=0), frame_id=''), name=[], position=[], velocity=[], effort=[]), gripper_apperture=0.0, action_phase=imitrob_common_interfaces.msg.ActionPhase(phase=3))\n",
      "[INFO] [1711039540.635969493] [playground_debug_node]: Robot action ended with\n",
      "\tsuccess: True\n",
      "\tflag: 1\n",
      "\tmessage: Action done\n",
      "[INFO] [1711039542.436998204] [playground_debug_node]: Robot action ended with\n",
      "\tsuccess: True\n",
      "\tflag: 1\n",
      "\tmessage: Action done\n"
     ]
    },
    {
     "name": "stdout",
     "output_type": "stream",
     "text": [
      "[Move check] Moving to [0.65695393 0.13622497 0.27344039], [1. 0. 0. 0.]\n",
      "last q before:  [ 0.74374538  0.83860089 -0.62103994 -1.68370523  0.62799179  2.31348245\n",
      "  0.62656078]\n",
      "last q:  [ 0.85455106  0.5571991  -0.80029065 -1.61477019  0.4280788   1.98802275\n",
      "  0.73855892]\n"
     ]
    },
    {
     "name": "stderr",
     "output_type": "stream",
     "text": [
      "[INFO] [1711039545.074947817] [playground_debug_node]: Received feedback: imitrob_common_interfaces.action.TrajectoryAction_Feedback(status='running', progress=1.0, pose=geometry_msgs.msg.PoseStamped(header=std_msgs.msg.Header(stamp=builtin_interfaces.msg.Time(sec=0, nanosec=0), frame_id=''), pose=geometry_msgs.msg.Pose(position=geometry_msgs.msg.Point(x=0.0, y=0.0, z=0.0), orientation=geometry_msgs.msg.Quaternion(x=0.0, y=0.0, z=0.0, w=1.0))), joint_state=sensor_msgs.msg.JointState(header=std_msgs.msg.Header(stamp=builtin_interfaces.msg.Time(sec=0, nanosec=0), frame_id=''), name=[], position=[], velocity=[], effort=[]), gripper_apperture=0.0, action_phase=imitrob_common_interfaces.msg.ActionPhase(phase=3))\n",
      "[INFO] [1711039545.171694315] [playground_debug_node]: Robot action ended with\n",
      "\tsuccess: True\n",
      "\tflag: 1\n",
      "\tmessage: Action done\n"
     ]
    },
    {
     "ename": "AttributeError",
     "evalue": "'PickTask' object has no attribute 'get_mode_1_move_4'",
     "output_type": "error",
     "traceback": [
      "\u001b[0;31m---------------------------------------------------------------------------\u001b[0m",
      "\u001b[0;31mAttributeError\u001b[0m                            Traceback (most recent call last)",
      "Cell \u001b[0;32mIn[12], line 2\u001b[0m\n\u001b[1;32m      1\u001b[0m \u001b[39mfor\u001b[39;00m i \u001b[39min\u001b[39;00m \u001b[39mrange\u001b[39m(\u001b[39m1\u001b[39m,\u001b[39m5\u001b[39m):\n\u001b[0;32m----> 2\u001b[0m     task\u001b[39m.\u001b[39mpqg_execute(\u001b[39m*\u001b[39m\u001b[39mgetattr\u001b[39;49m(task,\u001b[39mf\u001b[39;49m\u001b[39m'\u001b[39;49m\u001b[39mget_mode_1_move_\u001b[39;49m\u001b[39m{\u001b[39;49;00mi\u001b[39m}\u001b[39;49;00m\u001b[39m'\u001b[39;49m)(relevant_data), robot_client\u001b[39m=\u001b[39mrobot_client)\n",
      "\u001b[0;31mAttributeError\u001b[0m: 'PickTask' object has no attribute 'get_mode_1_move_4'"
     ]
    }
   ],
   "source": [
    "for i in range(1,5):\n",
    "    task.pqg_execute(*getattr(task,f'get_mode_1_move_{i}')(relevant_data), robot_client=robot_client)"
   ]
  },
  {
   "cell_type": "code",
   "execution_count": 13,
   "metadata": {},
   "outputs": [
    {
     "name": "stderr",
     "output_type": "stream",
     "text": [
      "[INFO] [1711038903.205475172] [playground_debug_node]: Robot action ended with\n",
      "\tsuccess: True\n",
      "\tflag: 1\n",
      "\tmessage: Action done\n"
     ]
    },
    {
     "data": {
      "text/plain": [
       "(True, 1, 'Action done')"
      ]
     },
     "execution_count": 13,
     "metadata": {},
     "output_type": "execute_result"
    }
   ],
   "source": [
    "robot_client.open_gripper()"
   ]
  },
  {
   "attachments": {},
   "cell_type": "markdown",
   "metadata": {},
   "source": [
    "# Put Into Task"
   ]
  },
  {
   "cell_type": "code",
   "execution_count": 13,
   "metadata": {},
   "outputs": [
    {
     "name": "stdout",
     "output_type": "stream",
     "text": [
      "(False, True, array([ 0.50447345, -0.08238658,  0.17690664]), array([ 0.70710678, -0.70710678,  0.        ,  0.        ]), '')\n",
      "(True, False, 0, 0, 'open')\n"
     ]
    }
   ],
   "source": [
    "task = PutIntoTask()\n",
    "\n",
    "scene2 = soc.get_scene2()\n",
    "task.target_object = scene2.crow_get_object_by_name('drawer').name\n",
    "task.ground_scene(scene2)\n",
    "suc, relevant_data = task.get_ground_data(relevant_data={})\n",
    "\n",
    "\n",
    "for i in range(1,3):\n",
    "    print(getattr(task,f'get_mode_1_move_{i}')(relevant_data, soc))"
   ]
  },
  {
   "cell_type": "code",
   "execution_count": 14,
   "metadata": {},
   "outputs": [
    {
     "name": "stdout",
     "output_type": "stream",
     "text": [
      "[Move check] Moving to [ 0.50447345 -0.08238658  0.17690664], [ 0.70710678 -0.70710678  0.          0.        ]\n",
      "last q before:  [ 0.85455106  0.5571991  -0.80029065 -1.61477019  0.4280788   1.98802275\n",
      "  0.73855892]\n",
      "last q:  [ 1.14448457  0.47723552 -1.309383   -2.31246129  0.65756802  2.3289154\n",
      "  1.73438617]\n"
     ]
    },
    {
     "name": "stderr",
     "output_type": "stream",
     "text": [
      "[INFO] [1711039552.318205945] [playground_debug_node]: Received feedback: imitrob_common_interfaces.action.TrajectoryAction_Feedback(status='running', progress=1.0, pose=geometry_msgs.msg.PoseStamped(header=std_msgs.msg.Header(stamp=builtin_interfaces.msg.Time(sec=0, nanosec=0), frame_id=''), pose=geometry_msgs.msg.Pose(position=geometry_msgs.msg.Point(x=0.0, y=0.0, z=0.0), orientation=geometry_msgs.msg.Quaternion(x=0.0, y=0.0, z=0.0, w=1.0))), joint_state=sensor_msgs.msg.JointState(header=std_msgs.msg.Header(stamp=builtin_interfaces.msg.Time(sec=0, nanosec=0), frame_id=''), name=[], position=[], velocity=[], effort=[]), gripper_apperture=0.0, action_phase=imitrob_common_interfaces.msg.ActionPhase(phase=3))\n",
      "[INFO] [1711039552.355475451] [playground_debug_node]: Robot action ended with\n",
      "\tsuccess: True\n",
      "\tflag: 1\n",
      "\tmessage: Action done\n",
      "[INFO] [1711039553.684538948] [playground_debug_node]: Robot action ended with\n",
      "\tsuccess: True\n",
      "\tflag: 1\n",
      "\tmessage: Action done\n"
     ]
    }
   ],
   "source": [
    "for i in range(1,3):\n",
    "    task.pqg_execute(*getattr(task,f'get_mode_1_move_{i}')(relevant_data, soc), robot_client=robot_client)"
   ]
  },
  {
   "cell_type": "code",
   "execution_count": 2,
   "metadata": {},
   "outputs": [
    {
     "name": "stdout",
     "output_type": "stream",
     "text": [
      "[Move check] Moving to [0.5001933, 0.08765498999999999, 0.15], [0.70710678, -0.70710678, 0.0, 0.0]\n",
      "last q before:  []\n",
      "last q:  [ 1.25159936  0.35744763 -1.05482096 -2.34786163  0.50783301  2.46538838\n",
      "  2.17195684]\n"
     ]
    },
    {
     "name": "stderr",
     "output_type": "stream",
     "text": [
      "[WARN] [1711039515.125567824] [playground_debug_node]: Robot was in different operation mode, trying to change it...\n",
      "[INFO] [1711039515.169261343] [playground_debug_node]: Operation mode changed to imitrob_common_interfaces.srv.SetOperationMode_Response(msg='success.', response_flag=imitrob_common_interfaces.msg.OperationModeChangeReFlag(value=1))\n",
      "[INFO] [1711039521.936763444] [playground_debug_node]: Received feedback: imitrob_common_interfaces.action.TrajectoryAction_Feedback(status='running', progress=1.0, pose=geometry_msgs.msg.PoseStamped(header=std_msgs.msg.Header(stamp=builtin_interfaces.msg.Time(sec=0, nanosec=0), frame_id=''), pose=geometry_msgs.msg.Pose(position=geometry_msgs.msg.Point(x=0.0, y=0.0, z=0.0), orientation=geometry_msgs.msg.Quaternion(x=0.0, y=0.0, z=0.0, w=1.0))), joint_state=sensor_msgs.msg.JointState(header=std_msgs.msg.Header(stamp=builtin_interfaces.msg.Time(sec=0, nanosec=0), frame_id=''), name=[], position=[], velocity=[], effort=[]), gripper_apperture=0.0, action_phase=imitrob_common_interfaces.msg.ActionPhase(phase=3))\n",
      "[INFO] [1711039522.016084310] [playground_debug_node]: Robot action ended with\n",
      "\tsuccess: True\n",
      "\tflag: 1\n",
      "\tmessage: Action done\n"
     ]
    },
    {
     "data": {
      "text/plain": [
       "(True, 1, 'Action done')"
      ]
     },
     "execution_count": 2,
     "metadata": {},
     "output_type": "execute_result"
    }
   ],
   "source": [
    "robot_client.move_pose(p=[ 0.5001933,  -0.09234501+0.18,  0.15], q=[ 0.70710678, -0.70710678  ,0. ,         0.        ])"
   ]
  },
  {
   "cell_type": "code",
   "execution_count": 3,
   "metadata": {},
   "outputs": [
    {
     "name": "stderr",
     "output_type": "stream",
     "text": [
      "[INFO] [1711039523.021616300] [playground_debug_node]: Robot action ended with\n",
      "\tsuccess: True\n",
      "\tflag: 1\n",
      "\tmessage: Action done\n"
     ]
    },
    {
     "data": {
      "text/plain": [
       "(True, 1, 'Action done')"
      ]
     },
     "execution_count": 3,
     "metadata": {},
     "output_type": "execute_result"
    }
   ],
   "source": [
    "robot_client.open_gripper()"
   ]
  },
  {
   "cell_type": "code",
   "execution_count": null,
   "metadata": {},
   "outputs": [],
   "source": []
  }
 ],
 "metadata": {
  "kernelspec": {
   "display_name": "crow_env",
   "language": "python",
   "name": "python3"
  },
  "language_info": {
   "codemirror_mode": {
    "name": "ipython",
    "version": 3
   },
   "file_extension": ".py",
   "mimetype": "text/x-python",
   "name": "python",
   "nbconvert_exporter": "python",
   "pygments_lexer": "ipython3",
   "version": "3.11.8"
  },
  "vscode": {
   "interpreter": {
    "hash": "47dc621b612067a074119dbc2c440e0cb4823e13aba5b2b1f45b303e81df140e"
   }
  }
 },
 "nbformat": 4,
 "nbformat_minor": 2
}
